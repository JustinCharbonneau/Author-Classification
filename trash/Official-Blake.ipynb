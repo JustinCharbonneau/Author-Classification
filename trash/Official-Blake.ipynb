{
 "cells": [
  {
   "cell_type": "markdown",
   "metadata": {},
   "source": [
    "# Import Libraries"
   ]
  },
  {
   "cell_type": "code",
   "execution_count": 90,
   "metadata": {},
   "outputs": [],
   "source": [
    "# classification algorithms\n",
    "from sklearn import svm\n",
    "from sklearn.naive_bayes import MultinomialNB\n",
    "from sklearn.ensemble import GradientBoostingClassifier\n",
    "from sklearn.tree import DecisionTreeClassifier\n",
    "from sklearn.neighbors import KNeighborsClassifier\n",
    "from sklearn.neural_network import MLPClassifier\n",
    "\n",
    "# model accuracy\n",
    "from sklearn.model_selection import cross_val_score\n",
    "from sklearn.model_selection import cross_validate\n",
    "from sklearn.metrics import SCORERS\n",
    "\n",
    "# data structures\n",
    "import numpy as np\n",
    "import pandas as pd\n",
    "import json\n",
    "\n",
    "# data viz and other\n",
    "import random\n",
    "import matplotlib.pyplot as plt\n",
    "\n",
    "# nlp stack\n",
    "import nltk\n",
    "from sklearn.preprocessing import LabelEncoder\n",
    "from sklearn.feature_extraction.text import TfidfVectorizer\n",
    "from sklearn.feature_extraction.text import CountVectorizer\n",
    "\n",
    "import warnings\n",
    "\n",
    "from sklearn.externals import joblib\n",
    "\n",
    "from lib.Functions import *"
   ]
  },
  {
   "cell_type": "code",
   "execution_count": 91,
   "metadata": {},
   "outputs": [],
   "source": [
    "random.seed(17) # For reproducibility \n",
    "warnings.filterwarnings('ignore')"
   ]
  },
  {
   "cell_type": "markdown",
   "metadata": {},
   "source": [
    "# Data Import"
   ]
  },
  {
   "cell_type": "code",
   "execution_count": 92,
   "metadata": {},
   "outputs": [],
   "source": [
    "from nltk.corpus import gutenberg   # Docs from project gutenberg.org   \n",
    "text_0 = nltk.corpus.gutenberg.raw('austen-emma.txt')\n",
    "text_1 = nltk.corpus.gutenberg.raw('blake-poems.txt')\n",
    "text_2 = nltk.corpus.gutenberg.raw('shakespeare-caesar.txt')\n",
    "text_3 = nltk.corpus.gutenberg.raw('carroll-alice.txt')\n",
    "text_4 = nltk.corpus.gutenberg.raw('melville-moby_dick.txt')"
   ]
  },
  {
   "cell_type": "markdown",
   "metadata": {},
   "source": [
    "# Pre-processing\n",
    "- Tokenization\n",
    "- Word Stemming/Lemmatization\n",
    "- Remove stop words"
   ]
  },
  {
   "cell_type": "code",
   "execution_count": 94,
   "metadata": {},
   "outputs": [],
   "source": [
    "austen = create_select_para(stem_lem_words(tokenize(text_0)))\n",
    "blake = create_select_para(stem_lem_words(tokenize(text_1)),para_size=160)\n",
    "shakespeare = create_select_para(stem_lem_words(tokenize(text_2)))\n",
    "carroll = create_select_para(stem_lem_words(tokenize(text_3)))\n",
    "melville = create_select_para(stem_lem_words(tokenize(text_4)))"
   ]
  },
  {
   "cell_type": "code",
   "execution_count": 95,
   "metadata": {},
   "outputs": [],
   "source": [
    "training_data = austen + blake + shakespeare + carroll + melville\n",
    "# Convert to Data Frame and label the columns\n",
    "label_data = pd.DataFrame([\"austen\"] * len(austen) + [\"blake\"] * len(blake) + [\"shakespeare\"] * len(shakespeare) + [\"carroll\"] * len(carroll) + [\"melville\"] * len(melville))\n",
    "label_data.columns = ['target_value']"
   ]
  },
  {
   "cell_type": "markdown",
   "metadata": {},
   "source": [
    "# Transform & Feature Engineering"
   ]
  },
  {
   "cell_type": "markdown",
   "metadata": {},
   "source": [
    "### Next step is converting the text (paragraphs) into numerical feature vectors. BOW and TF-IDF and Combined"
   ]
  },
  {
   "cell_type": "markdown",
   "metadata": {},
   "source": [
    "### BOW"
   ]
  },
  {
   "cell_type": "code",
   "execution_count": 97,
   "metadata": {},
   "outputs": [
    {
     "data": {
      "text/html": [
       "<div>\n",
       "<style scoped>\n",
       "    .dataframe tbody tr th:only-of-type {\n",
       "        vertical-align: middle;\n",
       "    }\n",
       "\n",
       "    .dataframe tbody tr th {\n",
       "        vertical-align: top;\n",
       "    }\n",
       "\n",
       "    .dataframe thead th {\n",
       "        text-align: right;\n",
       "    }\n",
       "</style>\n",
       "<table border=\"1\" class=\"dataframe\">\n",
       "  <thead>\n",
       "    <tr style=\"text-align: right;\">\n",
       "      <th></th>\n",
       "      <th>able</th>\n",
       "      <th>account</th>\n",
       "      <th>acquaintance</th>\n",
       "      <th>across</th>\n",
       "      <th>added</th>\n",
       "      <th>affection</th>\n",
       "      <th>afraid</th>\n",
       "      <th>afterwards</th>\n",
       "      <th>againe</th>\n",
       "      <th>age</th>\n",
       "      <th>...</th>\n",
       "      <th>wrath</th>\n",
       "      <th>write</th>\n",
       "      <th>written</th>\n",
       "      <th>wrong</th>\n",
       "      <th>ye</th>\n",
       "      <th>year</th>\n",
       "      <th>yes</th>\n",
       "      <th>yet</th>\n",
       "      <th>young</th>\n",
       "      <th>youth</th>\n",
       "    </tr>\n",
       "  </thead>\n",
       "  <tbody>\n",
       "    <tr>\n",
       "      <th>0</th>\n",
       "      <td>0</td>\n",
       "      <td>1</td>\n",
       "      <td>0</td>\n",
       "      <td>0</td>\n",
       "      <td>0</td>\n",
       "      <td>0</td>\n",
       "      <td>0</td>\n",
       "      <td>0</td>\n",
       "      <td>0</td>\n",
       "      <td>0</td>\n",
       "      <td>...</td>\n",
       "      <td>0</td>\n",
       "      <td>0</td>\n",
       "      <td>0</td>\n",
       "      <td>0</td>\n",
       "      <td>0</td>\n",
       "      <td>0</td>\n",
       "      <td>0</td>\n",
       "      <td>0</td>\n",
       "      <td>0</td>\n",
       "      <td>0</td>\n",
       "    </tr>\n",
       "    <tr>\n",
       "      <th>1</th>\n",
       "      <td>0</td>\n",
       "      <td>0</td>\n",
       "      <td>0</td>\n",
       "      <td>0</td>\n",
       "      <td>0</td>\n",
       "      <td>0</td>\n",
       "      <td>0</td>\n",
       "      <td>0</td>\n",
       "      <td>0</td>\n",
       "      <td>0</td>\n",
       "      <td>...</td>\n",
       "      <td>0</td>\n",
       "      <td>0</td>\n",
       "      <td>0</td>\n",
       "      <td>0</td>\n",
       "      <td>0</td>\n",
       "      <td>2</td>\n",
       "      <td>0</td>\n",
       "      <td>1</td>\n",
       "      <td>0</td>\n",
       "      <td>0</td>\n",
       "    </tr>\n",
       "  </tbody>\n",
       "</table>\n",
       "<p>2 rows × 1000 columns</p>\n",
       "</div>"
      ],
      "text/plain": [
       "   able  account  acquaintance  across  added  affection  afraid  afterwards  \\\n",
       "0     0        1             0       0      0          0       0           0   \n",
       "1     0        0             0       0      0          0       0           0   \n",
       "\n",
       "   againe  age  ...  wrath  write  written  wrong  ye  year  yes  yet  young  \\\n",
       "0       0    0  ...      0      0        0      0   0     0    0    0      0   \n",
       "1       0    0  ...      0      0        0      0   0     2    0    1      0   \n",
       "\n",
       "   youth  \n",
       "0      0  \n",
       "1      0  \n",
       "\n",
       "[2 rows x 1000 columns]"
      ]
     },
     "execution_count": 97,
     "metadata": {},
     "output_type": "execute_result"
    }
   ],
   "source": [
    "c_vectorizer = CountVectorizer(max_features=1000,ngram_range=(1, 2)) # top 1000 words and bigrams\n",
    "fit_c_vectorizer = c_vectorizer.fit(training_data)\n",
    "\n",
    "# Output a pickle file for the vectorizer\n",
    "#joblib.dump(fit_c_vectorizer, 'vectorizers/count_vectorizer.pkl')# c_vectorizer = joblib.load('pickles/count_vectorizer.pkl')\n",
    "texts_count_vectorized = pd.DataFrame(c_vectorizer.fit_transform(training_data).toarray())\n",
    "texts_count_vectorized.columns = c_vectorizer.get_feature_names()\n",
    "texts_count_vectorized.head(2)"
   ]
  },
  {
   "cell_type": "markdown",
   "metadata": {},
   "source": [
    "### TF-IDF"
   ]
  },
  {
   "cell_type": "code",
   "execution_count": 98,
   "metadata": {},
   "outputs": [
    {
     "data": {
      "text/html": [
       "<div>\n",
       "<style scoped>\n",
       "    .dataframe tbody tr th:only-of-type {\n",
       "        vertical-align: middle;\n",
       "    }\n",
       "\n",
       "    .dataframe tbody tr th {\n",
       "        vertical-align: top;\n",
       "    }\n",
       "\n",
       "    .dataframe thead th {\n",
       "        text-align: right;\n",
       "    }\n",
       "</style>\n",
       "<table border=\"1\" class=\"dataframe\">\n",
       "  <thead>\n",
       "    <tr style=\"text-align: right;\">\n",
       "      <th></th>\n",
       "      <th>able</th>\n",
       "      <th>account</th>\n",
       "      <th>acquaintance</th>\n",
       "      <th>across</th>\n",
       "      <th>added</th>\n",
       "      <th>affection</th>\n",
       "      <th>afraid</th>\n",
       "      <th>afterwards</th>\n",
       "      <th>againe</th>\n",
       "      <th>age</th>\n",
       "      <th>...</th>\n",
       "      <th>wrath</th>\n",
       "      <th>write</th>\n",
       "      <th>written</th>\n",
       "      <th>wrong</th>\n",
       "      <th>ye</th>\n",
       "      <th>year</th>\n",
       "      <th>yes</th>\n",
       "      <th>yet</th>\n",
       "      <th>young</th>\n",
       "      <th>youth</th>\n",
       "    </tr>\n",
       "  </thead>\n",
       "  <tbody>\n",
       "    <tr>\n",
       "      <th>0</th>\n",
       "      <td>0.0</td>\n",
       "      <td>0.100227</td>\n",
       "      <td>0.0</td>\n",
       "      <td>0.0</td>\n",
       "      <td>0.0</td>\n",
       "      <td>0.0</td>\n",
       "      <td>0.0</td>\n",
       "      <td>0.0</td>\n",
       "      <td>0.0</td>\n",
       "      <td>0.0</td>\n",
       "      <td>...</td>\n",
       "      <td>0.0</td>\n",
       "      <td>0.0</td>\n",
       "      <td>0.0</td>\n",
       "      <td>0.0</td>\n",
       "      <td>0.0</td>\n",
       "      <td>0.000000</td>\n",
       "      <td>0.0</td>\n",
       "      <td>0.000000</td>\n",
       "      <td>0.0</td>\n",
       "      <td>0.0</td>\n",
       "    </tr>\n",
       "    <tr>\n",
       "      <th>1</th>\n",
       "      <td>0.0</td>\n",
       "      <td>0.000000</td>\n",
       "      <td>0.0</td>\n",
       "      <td>0.0</td>\n",
       "      <td>0.0</td>\n",
       "      <td>0.0</td>\n",
       "      <td>0.0</td>\n",
       "      <td>0.0</td>\n",
       "      <td>0.0</td>\n",
       "      <td>0.0</td>\n",
       "      <td>...</td>\n",
       "      <td>0.0</td>\n",
       "      <td>0.0</td>\n",
       "      <td>0.0</td>\n",
       "      <td>0.0</td>\n",
       "      <td>0.0</td>\n",
       "      <td>0.137225</td>\n",
       "      <td>0.0</td>\n",
       "      <td>0.044733</td>\n",
       "      <td>0.0</td>\n",
       "      <td>0.0</td>\n",
       "    </tr>\n",
       "  </tbody>\n",
       "</table>\n",
       "<p>2 rows × 1000 columns</p>\n",
       "</div>"
      ],
      "text/plain": [
       "   able   account  acquaintance  across  added  affection  afraid  afterwards  \\\n",
       "0   0.0  0.100227           0.0     0.0    0.0        0.0     0.0         0.0   \n",
       "1   0.0  0.000000           0.0     0.0    0.0        0.0     0.0         0.0   \n",
       "\n",
       "   againe  age  ...  wrath  write  written  wrong   ye      year  yes  \\\n",
       "0     0.0  0.0  ...    0.0    0.0      0.0    0.0  0.0  0.000000  0.0   \n",
       "1     0.0  0.0  ...    0.0    0.0      0.0    0.0  0.0  0.137225  0.0   \n",
       "\n",
       "        yet  young  youth  \n",
       "0  0.000000    0.0    0.0  \n",
       "1  0.044733    0.0    0.0  \n",
       "\n",
       "[2 rows x 1000 columns]"
      ]
     },
     "execution_count": 98,
     "metadata": {},
     "output_type": "execute_result"
    }
   ],
   "source": [
    "tfidf_vectorizer = TfidfVectorizer(max_features=1000,ngram_range=(1, 2))\n",
    "fit_tfidf_vectorizer = tfidf_vectorizer.fit(training_data)\n",
    "\n",
    "# Output a pickle file for the vectorizer\n",
    "#joblib.dump(fit_tfidf_vectorizer, 'vectorizers/tfidf_vectorizer.pkl')\n",
    "texts_tfidf_vectorized = pd.DataFrame(tfidf_vectorizer.fit_transform(training_data).toarray())\n",
    "texts_tfidf_vectorized.columns = tfidf_vectorizer.get_feature_names()\n",
    "texts_tfidf_vectorized.head(2)"
   ]
  },
  {
   "cell_type": "markdown",
   "metadata": {},
   "source": [
    "Add the target variable to the feature vector"
   ]
  },
  {
   "cell_type": "code",
   "execution_count": 99,
   "metadata": {},
   "outputs": [],
   "source": [
    "#Add BOW and TF-IDF\n",
    "df = pd.concat([texts_count_vectorized,texts_tfidf_vectorized, label_data], axis=1)"
   ]
  },
  {
   "cell_type": "code",
   "execution_count": 100,
   "metadata": {},
   "outputs": [
    {
     "data": {
      "text/html": [
       "<div>\n",
       "<style scoped>\n",
       "    .dataframe tbody tr th:only-of-type {\n",
       "        vertical-align: middle;\n",
       "    }\n",
       "\n",
       "    .dataframe tbody tr th {\n",
       "        vertical-align: top;\n",
       "    }\n",
       "\n",
       "    .dataframe thead th {\n",
       "        text-align: right;\n",
       "    }\n",
       "</style>\n",
       "<table border=\"1\" class=\"dataframe\">\n",
       "  <thead>\n",
       "    <tr style=\"text-align: right;\">\n",
       "      <th></th>\n",
       "      <th>able</th>\n",
       "      <th>account</th>\n",
       "      <th>acquaintance</th>\n",
       "      <th>across</th>\n",
       "      <th>added</th>\n",
       "      <th>affection</th>\n",
       "      <th>afraid</th>\n",
       "      <th>afterwards</th>\n",
       "      <th>againe</th>\n",
       "      <th>age</th>\n",
       "      <th>...</th>\n",
       "      <th>write</th>\n",
       "      <th>written</th>\n",
       "      <th>wrong</th>\n",
       "      <th>ye</th>\n",
       "      <th>year</th>\n",
       "      <th>yes</th>\n",
       "      <th>yet</th>\n",
       "      <th>young</th>\n",
       "      <th>youth</th>\n",
       "      <th>target_value</th>\n",
       "    </tr>\n",
       "  </thead>\n",
       "  <tbody>\n",
       "    <tr>\n",
       "      <th>786</th>\n",
       "      <td>0</td>\n",
       "      <td>0</td>\n",
       "      <td>0</td>\n",
       "      <td>0</td>\n",
       "      <td>0</td>\n",
       "      <td>0</td>\n",
       "      <td>0</td>\n",
       "      <td>0</td>\n",
       "      <td>0</td>\n",
       "      <td>0</td>\n",
       "      <td>...</td>\n",
       "      <td>0.0</td>\n",
       "      <td>0.0</td>\n",
       "      <td>0.0</td>\n",
       "      <td>0.0</td>\n",
       "      <td>0.0</td>\n",
       "      <td>0.00000</td>\n",
       "      <td>0.000000</td>\n",
       "      <td>0.0</td>\n",
       "      <td>0.0</td>\n",
       "      <td>carroll</td>\n",
       "    </tr>\n",
       "    <tr>\n",
       "      <th>499</th>\n",
       "      <td>0</td>\n",
       "      <td>0</td>\n",
       "      <td>0</td>\n",
       "      <td>0</td>\n",
       "      <td>1</td>\n",
       "      <td>0</td>\n",
       "      <td>0</td>\n",
       "      <td>0</td>\n",
       "      <td>1</td>\n",
       "      <td>0</td>\n",
       "      <td>...</td>\n",
       "      <td>0.0</td>\n",
       "      <td>0.0</td>\n",
       "      <td>0.0</td>\n",
       "      <td>0.0</td>\n",
       "      <td>0.0</td>\n",
       "      <td>0.06793</td>\n",
       "      <td>0.045468</td>\n",
       "      <td>0.0</td>\n",
       "      <td>0.0</td>\n",
       "      <td>shakespeare</td>\n",
       "    </tr>\n",
       "    <tr>\n",
       "      <th>930</th>\n",
       "      <td>0</td>\n",
       "      <td>0</td>\n",
       "      <td>0</td>\n",
       "      <td>0</td>\n",
       "      <td>0</td>\n",
       "      <td>0</td>\n",
       "      <td>0</td>\n",
       "      <td>0</td>\n",
       "      <td>0</td>\n",
       "      <td>0</td>\n",
       "      <td>...</td>\n",
       "      <td>0.0</td>\n",
       "      <td>0.0</td>\n",
       "      <td>0.0</td>\n",
       "      <td>0.0</td>\n",
       "      <td>0.0</td>\n",
       "      <td>0.00000</td>\n",
       "      <td>0.000000</td>\n",
       "      <td>0.0</td>\n",
       "      <td>0.0</td>\n",
       "      <td>melville</td>\n",
       "    </tr>\n",
       "    <tr>\n",
       "      <th>217</th>\n",
       "      <td>0</td>\n",
       "      <td>0</td>\n",
       "      <td>0</td>\n",
       "      <td>0</td>\n",
       "      <td>0</td>\n",
       "      <td>0</td>\n",
       "      <td>0</td>\n",
       "      <td>0</td>\n",
       "      <td>0</td>\n",
       "      <td>0</td>\n",
       "      <td>...</td>\n",
       "      <td>0.0</td>\n",
       "      <td>0.0</td>\n",
       "      <td>0.0</td>\n",
       "      <td>0.0</td>\n",
       "      <td>0.0</td>\n",
       "      <td>0.00000</td>\n",
       "      <td>0.000000</td>\n",
       "      <td>0.0</td>\n",
       "      <td>0.0</td>\n",
       "      <td>blake</td>\n",
       "    </tr>\n",
       "    <tr>\n",
       "      <th>803</th>\n",
       "      <td>0</td>\n",
       "      <td>0</td>\n",
       "      <td>0</td>\n",
       "      <td>0</td>\n",
       "      <td>0</td>\n",
       "      <td>0</td>\n",
       "      <td>0</td>\n",
       "      <td>0</td>\n",
       "      <td>0</td>\n",
       "      <td>0</td>\n",
       "      <td>...</td>\n",
       "      <td>0.0</td>\n",
       "      <td>0.0</td>\n",
       "      <td>0.0</td>\n",
       "      <td>0.0</td>\n",
       "      <td>0.0</td>\n",
       "      <td>0.00000</td>\n",
       "      <td>0.000000</td>\n",
       "      <td>0.0</td>\n",
       "      <td>0.0</td>\n",
       "      <td>melville</td>\n",
       "    </tr>\n",
       "  </tbody>\n",
       "</table>\n",
       "<p>5 rows × 2001 columns</p>\n",
       "</div>"
      ],
      "text/plain": [
       "     able  account  acquaintance  across  added  affection  afraid  \\\n",
       "786     0        0             0       0      0          0       0   \n",
       "499     0        0             0       0      1          0       0   \n",
       "930     0        0             0       0      0          0       0   \n",
       "217     0        0             0       0      0          0       0   \n",
       "803     0        0             0       0      0          0       0   \n",
       "\n",
       "     afterwards  againe  age  ...  write  written  wrong   ye  year      yes  \\\n",
       "786           0       0    0  ...    0.0      0.0    0.0  0.0   0.0  0.00000   \n",
       "499           0       1    0  ...    0.0      0.0    0.0  0.0   0.0  0.06793   \n",
       "930           0       0    0  ...    0.0      0.0    0.0  0.0   0.0  0.00000   \n",
       "217           0       0    0  ...    0.0      0.0    0.0  0.0   0.0  0.00000   \n",
       "803           0       0    0  ...    0.0      0.0    0.0  0.0   0.0  0.00000   \n",
       "\n",
       "          yet  young  youth  target_value  \n",
       "786  0.000000    0.0    0.0       carroll  \n",
       "499  0.045468    0.0    0.0   shakespeare  \n",
       "930  0.000000    0.0    0.0      melville  \n",
       "217  0.000000    0.0    0.0         blake  \n",
       "803  0.000000    0.0    0.0      melville  \n",
       "\n",
       "[5 rows x 2001 columns]"
      ]
     },
     "execution_count": 100,
     "metadata": {},
     "output_type": "execute_result"
    }
   ],
   "source": [
    "df = df.sample(frac=1,random_state=17)\n",
    "df.head(5)"
   ]
  },
  {
   "cell_type": "markdown",
   "metadata": {},
   "source": [
    "Split data from labels"
   ]
  },
  {
   "cell_type": "code",
   "execution_count": 101,
   "metadata": {},
   "outputs": [],
   "source": [
    "y = df['target_value'].values\n",
    "X = df.iloc[:, :-1]"
   ]
  },
  {
   "cell_type": "markdown",
   "metadata": {},
   "source": [
    "# K-Nearest Neighbor"
   ]
  },
  {
   "cell_type": "markdown",
   "metadata": {},
   "source": [
    "Determine the K"
   ]
  },
  {
   "cell_type": "code",
   "execution_count": 301,
   "metadata": {
    "scrolled": true
   },
   "outputs": [
    {
     "data": {
      "image/png": "[encoded data removed]",
      "text/plain": [
       "<Figure size 432x288 with 1 Axes>"
      ]
     },
     "metadata": {
      "needs_background": "light"
     },
     "output_type": "display_data"
    }
   ],
   "source": [
    "Ks = 20\n",
    "accuracy_Ks = []\n",
    "for n in range(1,Ks):\n",
    "    knn = KNeighborsClassifier(n_neighbors = n)\n",
    "    # Fit with cross validation\n",
    "    accuracy_Ks.append(np.mean(cross_val_score(knn, X, y, cv=6)))\n",
    "\n",
    "# plot results\n",
    "plt.plot(range(1,Ks),accuracy_Ks,'g')\n",
    "plt.ylabel('Accuracy')\n",
    "plt.xlabel('Number of (Ks)')\n",
    "plt.axvline(x=4,linestyle='dashed')\n",
    "plt.tight_layout()\n",
    "plt.show()"
   ]
  },
  {
   "cell_type": "code",
   "execution_count": 302,
   "metadata": {},
   "outputs": [],
   "source": [
    "knn_model = KNeighborsClassifier(n_neighbors = 4)\n",
    "knn_score = cross_validate(knn_model, X, y, cv=10,return_train_score=True)"
   ]
  },
  {
   "cell_type": "markdown",
   "metadata": {},
   "source": [
    "# Decision Tree"
   ]
  },
  {
   "cell_type": "code",
   "execution_count": 102,
   "metadata": {},
   "outputs": [],
   "source": [
    "dt_model = DecisionTreeClassifier(random_state=17)\n",
    "dt_score = cross_validate(dt_model, X, y, cv=10,return_train_score=True)"
   ]
  },
  {
   "cell_type": "code",
   "execution_count": 103,
   "metadata": {},
   "outputs": [],
   "source": [
    "from sklearn.model_selection import train_test_split\n",
    "X_train, X_test, y_train, y_test = train_test_split(X, y, test_size=0.3, random_state=17)"
   ]
  },
  {
   "cell_type": "code",
   "execution_count": 104,
   "metadata": {},
   "outputs": [],
   "source": [
    "dt_score2 = dt_model.fit(X_train, y_train)"
   ]
  },
  {
   "cell_type": "code",
   "execution_count": 105,
   "metadata": {},
   "outputs": [],
   "source": [
    "res = dt_score2.predict(X_test)"
   ]
  },
  {
   "cell_type": "code",
   "execution_count": 106,
   "metadata": {},
   "outputs": [],
   "source": [
    "from sklearn.metrics import classification_report"
   ]
  },
  {
   "cell_type": "code",
   "execution_count": 107,
   "metadata": {},
   "outputs": [
    {
     "name": "stdout",
     "output_type": "stream",
     "text": [
      "              precision    recall  f1-score   support\n",
      "\n",
      "      austen       0.97      1.00      0.98        56\n",
      "       blake       0.93      1.00      0.96        63\n",
      "     carroll       1.00      0.97      0.98        66\n",
      "    melville       0.98      0.88      0.93        58\n",
      " shakespeare       0.97      0.98      0.97        57\n",
      "\n",
      "   micro avg       0.97      0.97      0.97       300\n",
      "   macro avg       0.97      0.97      0.97       300\n",
      "weighted avg       0.97      0.97      0.97       300\n",
      "\n"
     ]
    }
   ],
   "source": [
    "print(classification_report(y_test, res))"
   ]
  },
  {
   "cell_type": "markdown",
   "metadata": {},
   "source": [
    "The biggest issue is with the text written by \"blake\". The low values in precision indicate that we predicted that it was blake but it wasn't and the low value of recall indicate that we predicted it wasn't blake (someone else) but it was actually blake. Next, to see with who it confused it with, I will look at the confusion matrix."
   ]
  },
  {
   "cell_type": "code",
   "execution_count": 108,
   "metadata": {},
   "outputs": [],
   "source": [
    "from sklearn.metrics import confusion_matrix"
   ]
  },
  {
   "cell_type": "code",
   "execution_count": 109,
   "metadata": {},
   "outputs": [
    {
     "data": {
      "text/plain": [
       "array([[56,  0,  0,  0,  0],\n",
       "       [ 0, 63,  0,  0,  0],\n",
       "       [ 0,  1, 64,  1,  0],\n",
       "       [ 2,  3,  0, 51,  2],\n",
       "       [ 0,  1,  0,  0, 56]])"
      ]
     },
     "execution_count": 109,
     "metadata": {},
     "output_type": "execute_result"
    }
   ],
   "source": [
    "confusion_matrix(y_test, res,labels=[\"austen\", \"blake\", \"carroll\",\"melville\",\"shakespeare\"])"
   ]
  },
  {
   "cell_type": "code",
   "execution_count": 21,
   "metadata": {},
   "outputs": [
    {
     "data": {
      "text/plain": [
       "array([[55,  1,  0,  0,  0],\n",
       "       [ 0, 63,  0,  0,  0],\n",
       "       [ 0,  0, 65,  1,  0],\n",
       "       [ 3,  4,  0, 51,  0],\n",
       "       [ 0,  1,  0,  1, 55]])"
      ]
     },
     "execution_count": 21,
     "metadata": {},
     "output_type": "execute_result"
    }
   ],
   "source": [
    "confusion_matrix(y_test, res,labels=[\"austen\", \"blake\", \"carroll\",\"melville\",\"shakespeare\"])"
   ]
  },
  {
   "cell_type": "markdown",
   "metadata": {},
   "source": [
    "So they are ordered. This means that out of the 8 text of blake, it got 5 correct. Thats not good! It predicted 2 times that it was blake when it was actually shakespeare. And the other was the model predicted it was shakespeare, but it was actually blake. I think this is because the model doesn't have enough information about blake to be able to identify it."
   ]
  },
  {
   "cell_type": "markdown",
   "metadata": {},
   "source": []
  },
  {
   "cell_type": "markdown",
   "metadata": {},
   "source": [
    "# SVM"
   ]
  },
  {
   "cell_type": "code",
   "execution_count": 34,
   "metadata": {},
   "outputs": [],
   "source": [
    "# Additional preprocessing\n",
    "Encoder = LabelEncoder()\n",
    "y = Encoder.fit_transform(y)"
   ]
  },
  {
   "cell_type": "code",
   "execution_count": 305,
   "metadata": {},
   "outputs": [],
   "source": [
    "svm_model = svm.SVC(gamma='scale', decision_function_shape='ovo',random_state=17)\n",
    "svm_score = cross_validate(svm_model, X, y, cv=10,return_train_score=True)"
   ]
  },
  {
   "cell_type": "markdown",
   "metadata": {},
   "source": [
    "# Multi Layer Perceptron"
   ]
  },
  {
   "cell_type": "code",
   "execution_count": 306,
   "metadata": {},
   "outputs": [
    {
     "name": "stderr",
     "output_type": "stream",
     "text": [
      "/Users/justincharbonneau/anaconda3/lib/python3.7/site-packages/sklearn/model_selection/_search.py:841: DeprecationWarning: The default of the `iid` parameter will change from True to False in version 0.22 and will be removed in 0.24. This will change numeric results when test-set sizes are unequal.\n",
      "  DeprecationWarning)\n"
     ]
    },
    {
     "data": {
      "text/plain": [
       "GridSearchCV(cv=3, error_score='raise-deprecating',\n",
       "       estimator=MLPClassifier(activation='relu', alpha=0.0001, batch_size='auto', beta_1=0.9,\n",
       "       beta_2=0.999, early_stopping=False, epsilon=1e-08,\n",
       "       hidden_layer_sizes=(100,), learning_rate='constant',\n",
       "       learning_rate_init=0.001, max_iter=100, momentum=0.9,\n",
       "       n_iter_no_change=10, nesterovs_momentum=True, power_t=0.5,\n",
       "       random_state=None, shuffle=True, solver='adam', tol=0.0001,\n",
       "       validation_fraction=0.1, verbose=False, warm_start=False),\n",
       "       fit_params=None, iid='warn', n_jobs=-1,\n",
       "       param_grid={'hidden_layer_sizes': [(50, 50, 50), (50, 100, 50), (100,)], 'activation': ['tanh', 'relu'], 'solver': ['sgd', 'adam'], 'alpha': [0.0001, 0.05], 'learning_rate': ['constant', 'adaptive']},\n",
       "       pre_dispatch='2*n_jobs', refit=True, return_train_score='warn',\n",
       "       scoring=None, verbose=0)"
      ]
     },
     "execution_count": 306,
     "metadata": {},
     "output_type": "execute_result"
    }
   ],
   "source": [
    "# source: https://datascience.stackexchange.com/questions/36049/how-to-adjust-the-hyperparameters-of-mlp-classifier-to-get-more-perfect-performa\n",
    "\n",
    "# adjust the hyperparameters\n",
    "mlp = MLPClassifier(max_iter=100)\n",
    "parameter_space = {\n",
    "    'hidden_layer_sizes': [(50,50,50), (50,100,50), (100,)],\n",
    "    'activation': ['tanh', 'relu'],\n",
    "    'solver': ['sgd', 'adam'],\n",
    "    'alpha': [0.0001, 0.05],\n",
    "    'learning_rate': ['constant','adaptive'],\n",
    "}\n",
    "\n",
    "from sklearn.model_selection import GridSearchCV\n",
    "\n",
    "clf = GridSearchCV(mlp, parameter_space, n_jobs=-1, cv=3)\n",
    "clf.fit(X, y)"
   ]
  },
  {
   "cell_type": "code",
   "execution_count": 310,
   "metadata": {},
   "outputs": [
    {
     "name": "stdout",
     "output_type": "stream",
     "text": [
      "Best parameters found:\n",
      " {'activation': 'tanh', 'alpha': 0.0001, 'hidden_layer_sizes': (100,), 'learning_rate': 'adaptive', 'solver': 'adam'}\n"
     ]
    }
   ],
   "source": [
    "print('Best parameters found:\\n', clf.best_params_)\n",
    "# all are default except the learning_Rate. let's try this one."
   ]
  },
  {
   "cell_type": "code",
   "execution_count": 110,
   "metadata": {},
   "outputs": [],
   "source": [
    "mlp_model = MLPClassifier(random_state=10, learning_rate='adaptive',activation='tanh')\n",
    "mlp_score = cross_validate(mlp_model, X, y, cv=10,return_train_score=True)"
   ]
  },
  {
   "cell_type": "code",
   "execution_count": 111,
   "metadata": {},
   "outputs": [
    {
     "data": {
      "text/plain": [
       "array([1., 1., 1., 1., 1., 1., 1., 1., 1., 1.])"
      ]
     },
     "execution_count": 111,
     "metadata": {},
     "output_type": "execute_result"
    }
   ],
   "source": [
    "mlp_score['test_score']"
   ]
  },
  {
   "cell_type": "code",
   "execution_count": 34,
   "metadata": {},
   "outputs": [
    {
     "data": {
      "text/plain": [
       "dict_keys(['explained_variance', 'r2', 'neg_median_absolute_error', 'neg_mean_absolute_error', 'neg_mean_squared_error', 'neg_mean_squared_log_error', 'accuracy', 'roc_auc', 'balanced_accuracy', 'average_precision', 'neg_log_loss', 'brier_score_loss', 'adjusted_rand_score', 'homogeneity_score', 'completeness_score', 'v_measure_score', 'mutual_info_score', 'adjusted_mutual_info_score', 'normalized_mutual_info_score', 'fowlkes_mallows_score', 'precision', 'precision_macro', 'precision_micro', 'precision_samples', 'precision_weighted', 'recall', 'recall_macro', 'recall_micro', 'recall_samples', 'recall_weighted', 'f1', 'f1_macro', 'f1_micro', 'f1_samples', 'f1_weighted'])"
      ]
     },
     "execution_count": 34,
     "metadata": {},
     "output_type": "execute_result"
    }
   ],
   "source": [
    "SCORERS.keys()"
   ]
  },
  {
   "cell_type": "markdown",
   "metadata": {},
   "source": [
    "# Results"
   ]
  },
  {
   "cell_type": "code",
   "execution_count": 318,
   "metadata": {},
   "outputs": [
    {
     "data": {
      "image/png": "[encoded data removed]",
      "text/plain": [
       "<Figure size 720x576 with 4 Axes>"
      ]
     },
     "metadata": {
      "needs_background": "light"
     },
     "output_type": "display_data"
    }
   ],
   "source": [
    "from matplotlib.pyplot import figure\n",
    "import matplotlib.pyplot as plt\n",
    "\n",
    "plt.figure(1,figsize=(10,8))\n",
    "plt.subplot(221)\n",
    "plt.plot(range(0,10),dt_score['fit_time'],label='Decision Tree',marker='o', markerfacecolor='navy', markersize=5, color='navy', linewidth=1.5, alpha=0.5)\n",
    "plt.plot(range(0,10),knn_score['fit_time'],label='K-Nearest Neighbor',marker='o', markerfacecolor='seagreen', markersize=5, color='seagreen', linewidth=1.5, alpha=0.5)\n",
    "plt.plot(range(0,10),svm_score['fit_time'],label='Support Vector Machine',marker='o', markerfacecolor='orange', markersize=5, color='orange', linewidth=1.5, alpha=0.5)\n",
    "plt.plot(range(0,10),mlp_score['fit_time'],label='Multi Layer Perceptron',marker='o', markerfacecolor='mediumvioletred', markersize=5, color='mediumvioletred', linewidth=1.5, alpha=0.5)\n",
    "plt.ylabel('Training Time (s)')\n",
    "plt.xlabel('Folds')\n",
    "plt.title('Training Time')\n",
    "\n",
    "plt.subplot(222)\n",
    "plt.plot(range(0,10),dt_score['score_time'],label='Decision Tree',marker='o', markerfacecolor='navy', markersize=5, color='navy', linewidth=1.5, alpha=0.5)\n",
    "plt.plot(range(0,10),knn_score['score_time'],label='K-Nearest Neighbor',marker='o', markerfacecolor='seagreen', markersize=5, color='seagreen', linewidth=1.5, alpha=0.5)\n",
    "plt.plot(range(0,10),svm_score['score_time'],label='Support Vector Machine',marker='o', markerfacecolor='orange', markersize=5, color='orange', linewidth=1.5, alpha=0.5)\n",
    "plt.plot(range(0,10),mlp_score['score_time'],label='Multi Layer Perceptron',marker='o', markerfacecolor='mediumvioletred', markersize=5, color='mediumvioletred', linewidth=1.5, alpha=0.5)\n",
    "plt.ylabel('Validation Time (s)')\n",
    "plt.xlabel('Folds')\n",
    "plt.title('Validation Time')\n",
    "\n",
    "plt.subplot(223)\n",
    "plt.plot(range(0,10),dt_score['train_score'],label='Decision Tree',marker='o', markerfacecolor='navy', markersize=5, color='navy', linewidth=1.5, alpha=0.5)\n",
    "plt.plot(range(0,10),knn_score['train_score'],label='K-Nearest Neighbor',marker='o', markerfacecolor='seagreen', markersize=5, color='seagreen', linewidth=1.5, alpha=0.5)\n",
    "plt.plot(range(0,10),svm_score['train_score'],label='Support Vector Machine',marker='o', markerfacecolor='orange', markersize=5, color='orange', linewidth=1.5, alpha=0.5)\n",
    "plt.plot(range(0,10),mlp_score['train_score'],label='Multi Layer Perceptron',marker='o', markerfacecolor='mediumvioletred', markersize=5, color='mediumvioletred', linewidth=1.5, alpha=0.5)\n",
    "plt.ylabel('Accuracy')\n",
    "plt.xlabel('Folds')\n",
    "plt.title('Training Scores')\n",
    "\n",
    "plt.subplot(224)\n",
    "plt.plot(range(0,10),dt_score['test_score'],label='Decision Tree',marker='o', markerfacecolor='navy', markersize=5, color='navy', linewidth=1.5, alpha=0.5)\n",
    "plt.plot(range(0,10),knn_score['test_score'],label='K-Nearest Neighbor',marker='o', markerfacecolor='seagreen', markersize=5, color='seagreen', linewidth=1.5, alpha=0.5)\n",
    "plt.plot(range(0,10),svm_score['test_score'],label='Support Vector Machine',marker='o', markerfacecolor='orange', markersize=5, color='orange', linewidth=1.5, alpha=0.5)\n",
    "plt.plot(range(0,10),mlp_score['test_score'],label='Multi Layer Perceptron',marker='o', markerfacecolor='mediumvioletred', markersize=5, color='mediumvioletred', linewidth=1.5, alpha=0.5)\n",
    "plt.ylabel('Accuracy')\n",
    "plt.xlabel('Folds')\n",
    "plt.title('Validation Scores')\n",
    "\n",
    "plt.tight_layout()\n",
    "plt.legend(bbox_to_anchor=(1.8, 2))\n",
    "\n",
    "plt.show()"
   ]
  },
  {
   "cell_type": "code",
   "execution_count": 317,
   "metadata": {},
   "outputs": [
    {
     "name": "stdout",
     "output_type": "stream",
     "text": [
      "Decision Tree: 0.9619136239195301\n",
      "K-Nearest Neighbor: 0.9254637177397029\n",
      "Support Vector Machine: 0.9861453751268879\n",
      "Multi Layer Perceptron: 0.9948275862068966\n"
     ]
    }
   ],
   "source": [
    "print(\"Decision Tree:\",np.mean(dt_score['test_score']))\n",
    "print(\"K-Nearest Neighbor:\",np.mean(knn_score['test_score']))\n",
    "print(\"Support Vector Machine:\",np.mean(svm_score['test_score']))\n",
    "print(\"Multi Layer Perceptron:\",np.mean(mlp_score['test_score']))"
   ]
  },
  {
   "cell_type": "code",
   "execution_count": 343,
   "metadata": {},
   "outputs": [
    {
     "data": {
      "text/plain": [
       "['models/mlp_model.pkl']"
      ]
     },
     "execution_count": 343,
     "metadata": {},
     "output_type": "execute_result"
    }
   ],
   "source": [
    "# Output a pickle file for the model\n",
    "fit_mlp_model = mlp_model.fit(X,y)\n",
    "joblib.dump(fit_mlp_model, 'models/mlp_model.pkl')"
   ]
  },
  {
   "cell_type": "code",
   "execution_count": 320,
   "metadata": {},
   "outputs": [],
   "source": [
    "# Load the pickle file\n",
    "clf_load = joblib.load('models/mlp_model.pkl')"
   ]
  },
  {
   "cell_type": "code",
   "execution_count": null,
   "metadata": {},
   "outputs": [],
   "source": []
  },
  {
   "cell_type": "code",
   "execution_count": 447,
   "metadata": {},
   "outputs": [
    {
     "name": "stdout",
     "output_type": "stream",
     "text": [
      "Enter your sentence : shine,\\n and he knew that it was mine, --\\n \\n And into my garden stole\\n When the night had veiled the pole;\\n In the morning, glad, I see\\n My foe outstretched beneath the tree.\\n \\n \\n A LITTLE BOY LOST\\n \\n \"Nought loves another as itself,\\n   Nor venerates another so,\\n Nor is it possible to thought\\n   A greater than itself to know.\\n \\n \"And, father, how can I love you \\n   Or any of my brothers more?\\n I love you like the little bird\\n   That picks up crumbs around the door.\"\\n \\n The Priest sat by and heard the child;\\n   In trembling zeal he seized his hair,\\n He led him by his little coat,\\n   And all admired the priestly care. \\n \\n And standing on the altar high,\\n   \"Lo, what a fiend is here! said he:\\n \"One who sets reason up for judge\\n   Of our most holy mystery.\"\\n \\n The weeping child could not be heard,\\n   The weeping parents wept in vain:\\n They stripped him to his little shirt,\\n   And bound him in an iron chain,\\n \\n And burned him in a holy place\\n   Where many had been burned before;\\n The weeping parents wept in vain.\\n   Are such thing done on Albion\\'s shore?\\n \\n \\n A LITTLE GIRL LOST\\n \\n Children of the future age,\\n Reading this indignant page,\\n Know that in a former\n"
     ]
    }
   ],
   "source": [
    "u_in = input(\"Enter your sentence : \")"
   ]
  },
  {
   "cell_type": "code",
   "execution_count": 448,
   "metadata": {},
   "outputs": [
    {
     "data": {
      "text/plain": [
       "['shine n knew mine n n garden stole n night veiled pole n morning glad see n foe outstretched beneath tree n n n little boy lost n n nought love another n venerates another n possible thought n greater know n n father love n brother n love like little bird n pick crumb around door n n priest sat heard child n trembling zeal seized hair n led little coat n admired priestly care n n standing altar high n lo fiend said n one set reason judge n holy mystery n n weeping child could heard n weeping parent wept vain n stripped little shirt n bound iron chain n n burned holy place n many burned n weeping parent wept vain n thing done albion shore n n n little girl lost n n child future age n reading indignant page n know former']"
      ]
     },
     "execution_count": 448,
     "metadata": {},
     "output_type": "execute_result"
    }
   ],
   "source": [
    "user_input = select_random_para(create_para(stem_lem_words(tokenize(u_in))))\n",
    "user_input"
   ]
  },
  {
   "cell_type": "code",
   "execution_count": 449,
   "metadata": {},
   "outputs": [],
   "source": [
    "texts_count_vectorized = pd.DataFrame(c_vectorizer.transform(user_input).toarray())"
   ]
  },
  {
   "cell_type": "code",
   "execution_count": 468,
   "metadata": {},
   "outputs": [
    {
     "data": {
      "text/plain": [
       "array([[ 4.44536605e-02,  4.09213095e-02,  5.53459242e-03,\n",
       "        -6.26876886e-02,  1.99737721e-02,  2.39071018e-02,\n",
       "         4.70178895e-02,  5.19849064e-02,  6.76878134e-03,\n",
       "         2.51812486e-02, -2.10932408e-02,  3.50923240e-02,\n",
       "        -7.63730972e-03, -4.59579517e-03,  3.00132801e-02,\n",
       "        -1.82309567e-02,  3.10861564e-02, -9.33635479e-02,\n",
       "        -1.83885211e-02,  2.44535557e-02, -4.84804676e-04,\n",
       "        -1.74433779e-02,  1.22754443e-02,  2.33651255e-02,\n",
       "         1.18066710e-01,  7.69491568e-02,  1.25185116e-02,\n",
       "         3.79463829e-02,  3.26982212e-02, -4.69175550e-02,\n",
       "         4.32839396e-02,  1.30880644e-01,  1.39462244e-01,\n",
       "        -9.10786228e-02,  7.98691178e-02, -7.28197770e-02,\n",
       "        -1.10617749e-02, -3.87284578e-02, -1.02410762e-01,\n",
       "        -6.01648619e-02,  1.82341914e-01,  8.02704991e-02,\n",
       "        -5.39940465e-02, -8.84390762e-02,  2.97316613e-02,\n",
       "         7.25824236e-02,  3.06279590e-02, -4.36429263e-02,\n",
       "         9.83107399e-02, -1.08612613e-01, -5.69399918e-02,\n",
       "         1.31692899e-01,  3.32876658e-02,  1.00269306e-01,\n",
       "        -3.10261571e-03,  1.48011302e-02,  1.43808693e-01,\n",
       "         1.71515918e-01, -1.41450108e-02,  1.10248491e-01,\n",
       "         2.74549466e-02, -1.12010456e-01, -1.71493545e-01,\n",
       "         9.05118539e-02,  3.24612127e-02, -1.66438301e-01,\n",
       "        -5.60359127e-02, -1.03587470e-01, -2.57230236e-01,\n",
       "        -1.81868865e-01,  1.84590180e-01,  1.73143469e-02,\n",
       "        -1.51868861e-01, -9.32450484e-02,  1.02376881e-01,\n",
       "         5.67710347e-01,  3.54769426e-02,  1.22402539e-01,\n",
       "         1.98307563e-01,  3.09609753e-01, -1.64551573e-01,\n",
       "         8.48475137e-02, -6.76550360e-02, -4.23599083e-02,\n",
       "        -1.19752290e-01, -1.00719372e-02, -6.94549154e-02,\n",
       "         1.60141661e-01, -1.09112129e-01, -1.21959858e-04,\n",
       "         8.21526059e-02, -1.15829372e-01,  2.08672979e-01,\n",
       "        -1.03014407e-01, -2.83955802e-01,  2.19408233e-01,\n",
       "        -2.09741035e-01,  3.26827929e-01,  5.28782645e-01,\n",
       "        -1.42543504e-01,  1.86881920e-01, -3.17079535e-02,\n",
       "         5.99795011e-02, -4.20676202e-02, -1.39477044e-01,\n",
       "         2.09471252e-01,  1.21521548e-01,  2.52686203e-02,\n",
       "        -1.73244720e-01, -3.14684462e-01,  4.70109133e-02,\n",
       "        -1.27583666e-01, -1.63524882e-01, -3.42420829e-02,\n",
       "        -5.20287538e-02,  5.19308871e-02, -1.73857056e-02,\n",
       "        -1.68228601e-01,  3.27911310e-02,  3.93178131e-02,\n",
       "         4.95019103e-02,  2.14742061e-02, -4.27207994e-02,\n",
       "        -3.42946559e-02, -1.51826450e-01,  1.05304851e-01,\n",
       "         1.49962978e-01,  2.98506821e-02, -5.00716372e-02,\n",
       "         1.31934015e-01,  1.44534953e-01, -2.56017238e-01,\n",
       "        -4.07116749e-02, -1.11877004e-01, -3.27885367e-02,\n",
       "        -4.30785115e-02,  1.38120861e-01, -8.03974202e-02,\n",
       "         6.96399863e-02,  1.64533694e-01, -4.14832655e-02,\n",
       "         1.87434945e-01, -8.40726475e-02,  1.66699719e-01,\n",
       "         1.30529101e-01, -6.47698087e-02, -1.48273914e-01,\n",
       "         1.70055523e-01, -7.14489208e-02, -6.66679052e-02,\n",
       "        -1.03980422e-01,  7.64978617e-02,  1.02033827e-01,\n",
       "        -5.62840579e-02, -1.42167070e-01, -1.92184763e-01,\n",
       "        -2.03196335e-01,  1.50415087e-03, -1.02831871e-01,\n",
       "        -1.38082406e-01, -2.18456046e-01,  2.39942061e-01,\n",
       "         2.54848781e-01, -1.68116036e-01,  4.67763405e-01,\n",
       "        -3.09870816e-01,  1.75090091e-01,  6.97881876e-02,\n",
       "         2.29595132e-02, -1.45815159e-01,  2.96324614e-01,\n",
       "        -1.01287631e-01, -1.32638680e-02, -1.69855857e-01,\n",
       "        -3.79191054e-01,  5.27179444e-01,  3.26548374e-01,\n",
       "         3.10827694e-01,  2.92284970e-01, -1.07908290e-01,\n",
       "        -4.50138315e-02,  7.56722685e-02, -2.96044651e-01,\n",
       "        -1.28689165e-01, -3.54113585e-01,  2.63862141e-01,\n",
       "         1.51567410e-02, -3.40839779e-02, -2.66704929e-01,\n",
       "        -1.70305824e-02, -9.26117685e-04, -5.85648540e-03,\n",
       "         1.60226876e-01,  4.83480260e-01,  1.69126465e-01,\n",
       "        -1.70841309e-01,  5.36386857e-02, -1.69281577e-02,\n",
       "         1.62090142e-01, -1.03034272e-01, -1.04882828e-01,\n",
       "         9.13647192e-02, -3.74994463e-02,  9.67435445e-02,\n",
       "         6.77214020e-02, -1.79868938e-01,  2.87412736e-01,\n",
       "         1.41395407e-01,  1.86712512e-01,  3.89619824e-02,\n",
       "         4.82921538e-01, -5.10233760e-01, -2.81631737e-02,\n",
       "        -3.62761767e-01,  1.73989290e-01,  2.44930528e-01,\n",
       "         1.37665492e-01,  5.74737954e-02, -5.07106429e-02,\n",
       "         1.63764159e-01, -1.82880114e-03, -4.81991414e-02,\n",
       "         8.58016551e-02,  3.13217303e-01,  1.36937985e-01,\n",
       "        -1.48735613e-01,  3.23815277e-01,  6.22873142e-01,\n",
       "        -1.68048346e-01,  3.81455051e-01,  1.82849240e-01,\n",
       "        -1.76135669e-02, -2.41121235e-01,  9.04345520e-02,\n",
       "        -1.29998375e-03,  5.89101924e-03, -1.18751649e-01,\n",
       "        -1.10885610e-02,  1.83934236e-02,  2.30320798e-03,\n",
       "        -1.59053784e-01,  8.81650501e-03, -1.12285214e-01,\n",
       "        -4.12861190e-02, -1.07644093e-01,  1.64587710e-02,\n",
       "         2.58357074e-01,  2.85911175e-02, -1.63573314e-01,\n",
       "        -5.19779390e-02, -8.68191701e-02,  3.22757352e-02,\n",
       "         1.79008333e-01, -4.75606309e-02,  4.52950522e-02,\n",
       "        -2.17853456e-01, -4.88628877e-02, -3.93101000e-02,\n",
       "        -1.07135361e-02, -2.17085487e-01,  3.67928784e-03,\n",
       "         4.44413989e-03, -6.34007482e-02,  9.19439184e-03,\n",
       "        -1.26061079e-01, -2.28379780e-01,  1.17673333e-01,\n",
       "        -6.60551303e-02, -4.54562681e-02,  9.95118226e-02,\n",
       "        -8.94820490e-03, -4.29777631e-02, -4.06206660e-02,\n",
       "         1.31962122e-01,  4.32808600e-02,  1.02595570e-01,\n",
       "         9.51493739e-04,  3.88895353e-02,  1.22344058e-01,\n",
       "        -1.01857250e-01,  9.94162200e-02, -9.72590781e-02,\n",
       "         9.85826351e-03, -9.04060626e-02,  6.95354614e-02,\n",
       "        -6.74934169e-02, -8.76358867e-02,  1.53595890e-02,\n",
       "        -6.34125387e-02, -9.95613250e-02,  1.40875984e-01,\n",
       "        -5.01245675e-03, -5.84408746e-03, -5.22203222e-02,\n",
       "         5.85910898e-02, -3.52685736e-02, -6.41319790e-02,\n",
       "        -9.11230121e-03,  1.42710603e-01, -8.72630309e-02,\n",
       "         2.35817552e-02, -3.23878557e-03, -4.01439482e-03,\n",
       "         7.08607912e-02,  2.08984410e-02,  1.42751918e-01,\n",
       "        -4.04753210e-02, -6.93648812e-02, -8.32342223e-02,\n",
       "        -4.36360794e-02,  2.11273522e-02, -4.27639427e-02,\n",
       "        -7.43603112e-03, -9.06854626e-02, -3.85391861e-02,\n",
       "         4.67667848e-02,  1.58410780e-01,  5.32346873e-02,\n",
       "        -1.32140855e-01, -6.21897656e-02, -9.25963613e-03,\n",
       "        -3.79111942e-02, -2.44925908e-02, -1.05653440e-02,\n",
       "        -1.18342344e-02, -1.20433330e-01, -3.85787132e-02,\n",
       "         6.95319476e-03, -5.12918154e-02, -2.82759142e-02,\n",
       "        -1.40071938e-01,  1.64449730e-02,  1.26374028e-01,\n",
       "        -8.30648907e-02,  6.79168838e-02, -7.38771941e-03,\n",
       "        -7.38755848e-03,  6.59578543e-02, -3.62278889e-02,\n",
       "        -5.42299759e-02, -6.82646334e-02, -1.83483079e-02,\n",
       "        -1.59785740e-01, -2.22998172e-02, -8.67490667e-02,\n",
       "         1.61960157e-01, -5.08620206e-02, -3.55592077e-02,\n",
       "         8.84343035e-02,  1.07216739e-01,  1.31384961e-01,\n",
       "        -1.79757886e-02,  3.12377751e-02,  2.34123497e-02,\n",
       "         5.39441180e-02, -1.32041764e-04,  1.66735277e-03,\n",
       "        -9.58172078e-02,  4.89405434e-02, -1.69627752e-02,\n",
       "        -7.81165590e-02, -1.63027135e-02, -1.94086356e-02,\n",
       "         1.29277009e-02,  9.56568990e-02, -2.02937201e-02,\n",
       "         4.31987359e-02, -2.04495876e-02, -4.94009110e-02,\n",
       "        -1.08390018e-02,  3.75866190e-02, -2.20170903e-02,\n",
       "        -6.27330723e-02,  6.35359515e-04,  8.28110318e-03,\n",
       "         1.13658007e-01, -1.86751867e-02, -2.42777877e-02,\n",
       "         7.97464609e-04, -9.46886245e-02, -8.77761294e-02,\n",
       "        -9.81348410e-03,  1.65708764e-02,  7.23913812e-02,\n",
       "        -5.97303092e-03,  8.55547282e-02, -6.24531610e-02,\n",
       "        -1.04617583e-01, -8.21651256e-04,  2.86767896e-02,\n",
       "         1.97169375e-02,  5.16584500e-02, -1.32043279e-01,\n",
       "        -2.30981395e-02,  2.91843109e-02,  1.01258765e-01,\n",
       "        -4.77085851e-02, -5.47084266e-02,  6.17612461e-02,\n",
       "         1.61064768e-02, -2.99718469e-02,  1.06797939e-01,\n",
       "         9.79895140e-02,  6.24946647e-02,  6.83120006e-02,\n",
       "        -7.99885256e-02,  8.42794816e-02, -2.41039189e-02,\n",
       "        -5.80487775e-02, -1.35022863e-01,  4.86989763e-02,\n",
       "         8.78289908e-02, -9.81007865e-02,  6.41505371e-02,\n",
       "         5.27082808e-02,  8.14515063e-02,  7.94483001e-02,\n",
       "        -1.73816617e-02, -1.74467351e-01,  1.26408719e-02,\n",
       "         7.69006776e-03,  8.75549173e-02,  4.30655088e-02,\n",
       "        -1.91095671e-03,  6.15804547e-02,  1.41465903e-03,\n",
       "        -3.14958916e-03,  6.56218423e-02, -6.43883214e-02,\n",
       "        -6.69720118e-02,  7.76827367e-02,  1.61343640e-01,\n",
       "        -1.17865830e-01, -8.97354100e-02,  7.43085819e-02,\n",
       "        -6.13249525e-02,  1.94645375e-01,  7.59844444e-02,\n",
       "         5.99214208e-02,  3.84996760e-03, -8.43179402e-02,\n",
       "         7.03509867e-02,  1.28058643e-01,  1.94122067e-01,\n",
       "        -1.50747005e-01, -1.59298378e-01,  3.23779745e-01,\n",
       "         1.30820407e-01,  1.12216959e-01,  9.24771028e-02,\n",
       "        -8.04473986e-02, -9.13796707e-02, -2.26768027e-02,\n",
       "        -2.04294488e-01,  1.78409033e-01,  7.48358539e-02,\n",
       "         9.71417119e-03,  1.66443025e-01, -7.35493735e-03,\n",
       "         2.10413411e-01, -3.40602740e-03,  1.83015332e-01,\n",
       "        -1.23479530e-01, -1.54338401e-01,  1.14129412e-02,\n",
       "         9.41846124e-02,  2.36554278e-01,  5.59719230e-02,\n",
       "         4.50373311e-02, -7.44137498e-02,  1.16555395e-02,\n",
       "        -1.02733874e-01,  1.81872279e-01,  5.63463346e-01,\n",
       "         4.27125977e-01,  6.64203041e-01, -3.83491045e-02,\n",
       "         4.66761173e-01, -3.52243720e-01,  3.37758989e-01,\n",
       "         7.83127750e-01, -4.96205440e-01,  4.72083955e-01,\n",
       "        -2.85394249e-01,  2.15163543e-01,  2.91606779e-01,\n",
       "         2.65417767e-01, -9.57670001e-02, -3.54396021e-01,\n",
       "         3.45934230e-01, -1.22723891e-01, -9.75649798e-02,\n",
       "         1.33432139e-02,  6.98772285e-02,  5.82955180e-02,\n",
       "         6.21009871e-02, -1.70472281e-01,  7.34449396e-02,\n",
       "         2.79175237e-02, -1.30130037e-01,  5.22099800e-02,\n",
       "         4.80746852e-03,  1.53676627e-02, -1.16857134e-01,\n",
       "        -8.30009602e-02,  5.54193791e-02,  3.92554868e-02,\n",
       "        -1.15398961e-02,  4.36220245e-02, -1.65938840e-02,\n",
       "        -4.00678513e-02,  2.09045353e-02, -5.62081357e-02,\n",
       "         5.71183651e-02, -7.54484037e-02, -2.53586360e-03,\n",
       "        -8.96747703e-02,  3.84213399e-02,  1.39497468e-02,\n",
       "        -1.50073775e-02, -2.28777691e-02, -3.07270243e-03,\n",
       "        -1.38678449e-02,  7.05631599e-03, -5.58244061e-02,\n",
       "        -4.08786437e-02,  6.27912669e-02,  5.47935547e-02,\n",
       "         2.41466713e-02,  3.75086726e-02, -5.12771393e-02,\n",
       "         4.34358071e-02, -3.15894869e-02, -7.68878289e-02,\n",
       "        -3.03713598e-03,  9.14451995e-03,  1.99386411e-02,\n",
       "        -1.16873256e-02,  1.04422728e-02, -1.88867136e-02,\n",
       "        -3.57583673e-02, -2.12078984e-03, -4.05589306e-02,\n",
       "         6.07778384e-02,  5.03880390e-03, -3.29587920e-02,\n",
       "        -3.79010122e-02,  2.86455110e-02, -5.62743169e-03,\n",
       "        -2.12914645e-02, -5.11346699e-03,  7.61160024e-03,\n",
       "         7.55071014e-03,  4.69203843e-02,  1.95168105e-02,\n",
       "        -6.38343644e-02,  4.77378457e-03,  1.30844458e-02,\n",
       "         2.88465795e-03, -5.32542049e-03, -1.95463069e-02,\n",
       "         8.80072716e-03,  6.53804414e-04, -3.18503026e-02,\n",
       "         3.67730424e-02, -6.56749763e-02,  1.65775400e-05,\n",
       "        -4.75304096e-04,  2.27402864e-02,  7.47884120e-03,\n",
       "         3.38126648e-03,  3.20593200e-03,  3.15651743e-03,\n",
       "         4.84874250e-03,  3.76563516e-02,  2.45215462e-03,\n",
       "        -1.40884672e-03]])"
      ]
     },
     "execution_count": 468,
     "metadata": {},
     "output_type": "execute_result"
    }
   ],
   "source": [
    "svd.transform(texts_count_vectorized)"
   ]
  },
  {
   "cell_type": "code",
   "execution_count": 451,
   "metadata": {},
   "outputs": [
    {
     "data": {
      "text/plain": [
       "array(['blake-poems'], dtype=object)"
      ]
     },
     "execution_count": 451,
     "metadata": {},
     "output_type": "execute_result"
    }
   ],
   "source": [
    "clf_load.predict(texts_count_vectorized)"
   ]
  },
  {
   "cell_type": "markdown",
   "metadata": {},
   "source": [
    "# Error Analysis"
   ]
  },
  {
   "cell_type": "code",
   "execution_count": null,
   "metadata": {},
   "outputs": [],
   "source": []
  }
 ],
 "metadata": {
  "kernelspec": {
   "display_name": "Python 3",
   "language": "python",
   "name": "python3"
  },
  "language_info": {
   "codemirror_mode": {
    "name": "ipython",
    "version": 3
   },
   "file_extension": ".py",
   "mimetype": "text/x-python",
   "name": "python",
   "nbconvert_exporter": "python",
   "pygments_lexer": "ipython3",
   "version": "3.7.3"
  }
 },
 "nbformat": 4,
 "nbformat_minor": 2
}
